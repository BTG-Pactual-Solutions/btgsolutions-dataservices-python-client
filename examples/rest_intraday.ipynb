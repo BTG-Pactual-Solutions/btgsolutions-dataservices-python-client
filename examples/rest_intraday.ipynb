{
 "cells": [
  {
   "cell_type": "code",
   "execution_count": 1,
   "metadata": {},
   "outputs": [],
   "source": [
    "from btgsolutions_dataservices import IntradayCandles\n",
    "intraday_candles = IntradayCandles(\n",
    "    api_key='YOUR_API_KEY',\n",
    ")"
   ]
  },
  {
   "cell_type": "code",
   "execution_count": 2,
   "metadata": {},
   "outputs": [],
   "source": [
    "candles = intraday_candles.get_intraday_candles(\n",
    "    market_type = 'stocks',\n",
    "    tickers = ['PETR4', 'ABEV3'],\n",
    "    candle_period = '1m',\n",
    "    delay='delayed',\n",
    "    mode='absolute',\n",
    "    raw_data=False\n",
    ")    \n",
    "\n",
    "PETR4 = candles.get('PETR4')\n",
    "ABEV3 = candles.get('ABEV3')"
   ]
  },
  {
   "cell_type": "code",
   "execution_count": null,
   "metadata": {},
   "outputs": [],
   "source": [
    "intraday_candles.get_available_tickers(\n",
    "    market_type='stocks'\n",
    ")"
   ]
  }
 ],
 "metadata": {
  "interpreter": {
   "hash": "31f2aee4e71d21fbe5cf8b01ff0e069b9275f58929596ceb00d14d90e3e16cd6"
  },
  "kernelspec": {
   "display_name": "Python 3.7.10 64-bit",
   "language": "python",
   "name": "python3"
  },
  "language_info": {
   "codemirror_mode": {
    "name": "ipython",
    "version": 3
   },
   "file_extension": ".py",
   "mimetype": "text/x-python",
   "name": "python",
   "nbconvert_exporter": "python",
   "pygments_lexer": "ipython3",
   "version": "3.7.16"
  },
  "orig_nbformat": 4
 },
 "nbformat": 4,
 "nbformat_minor": 2
}
