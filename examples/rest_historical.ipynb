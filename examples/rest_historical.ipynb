{
 "cells": [
  {
   "cell_type": "code",
   "execution_count": null,
   "metadata": {},
   "outputs": [],
   "source": [
    "from btgsolutions_dataservices import HistoricalCandles\n",
    "\n",
    "hist_candles = HistoricalCandles(\n",
    "    api_key='YOUR_API_KEY'\n",
    ")"
   ]
  },
  {
   "cell_type": "code",
   "execution_count": null,
   "metadata": {},
   "outputs": [],
   "source": [
    "df = hist_candles.get_intraday_history_candles(\n",
    "    ticker='PETR4',\n",
    "    market_type='stocks',\n",
    "    corporate_events_adj=True,\n",
    "    date='2023-10-06',\n",
    "    rmv_after_market=True,\n",
    "    candle='1h',\n",
    "    timezone='UTC',\n",
    "    raw_data=False\n",
    ")\n",
    "df"
   ]
  },
  {
   "cell_type": "code",
   "execution_count": null,
   "metadata": {},
   "outputs": [],
   "source": [
    "df = hist_candles.get_interday_history_candles(\n",
    "    ticker='PETR4',\n",
    "    market_type='stocks',\n",
    "    corporate_events_adj=True,\n",
    "    start_date='2023-10-06',\n",
    "    end_date='2023-10-16',\n",
    "    rmv_after_market=True,\n",
    "    timezone='UTC',\n",
    "    raw_data=False\n",
    ")\n",
    "df"
   ]
  },
  {
   "cell_type": "code",
   "execution_count": null,
   "metadata": {},
   "outputs": [],
   "source": [
    "df.plot(x='date', y='close_price', kind='scatter')\t"
   ]
  }
 ],
 "metadata": {
  "interpreter": {
   "hash": "31f2aee4e71d21fbe5cf8b01ff0e069b9275f58929596ceb00d14d90e3e16cd6"
  },
  "kernelspec": {
   "display_name": "Python 3.7.10 64-bit",
   "language": "python",
   "name": "python3"
  },
  "language_info": {
   "codemirror_mode": {
    "name": "ipython",
    "version": 3
   },
   "file_extension": ".py",
   "mimetype": "text/x-python",
   "name": "python",
   "nbconvert_exporter": "python",
   "pygments_lexer": "ipython3",
   "version": "3.7.16"
  },
  "orig_nbformat": 4
 },
 "nbformat": 4,
 "nbformat_minor": 2
}
